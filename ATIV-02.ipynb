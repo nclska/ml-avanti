{
 "cells": [
  {
   "cell_type": "markdown",
   "id": "8bc960a8-8399-49f2-88e9-a6f35392dc90",
   "metadata": {
    "jp-MarkdownHeadingCollapsed": true,
    "tags": []
   },
   "source": [
    "# 1) Escreva uma função que receba uma lista de números e retorne outra lista com os números ímpares."
   ]
  },
  {
   "cell_type": "code",
   "execution_count": 10,
   "id": "9edc6b5d-8990-4e9d-a873-227c5dc7cb4c",
   "metadata": {
    "tags": []
   },
   "outputs": [
    {
     "name": "stdout",
     "output_type": "stream",
     "text": [
      "crie sua lista aqui e receba os números primos!\n"
     ]
    },
    {
     "name": "stdin",
     "output_type": "stream",
     "text": [
      "Qual será o tamanho da sua lista?  3\n",
      "Agora insira os valores da lista de um por um  3\n",
      "Agora insira os valores da lista de um por um  4\n",
      "Agora insira os valores da lista de um por um  5\n"
     ]
    },
    {
     "name": "stdout",
     "output_type": "stream",
     "text": [
      "os valores ímpares da lista são: [3, 5]\n"
     ]
    }
   ],
   "source": [
    "def impar(numeros):\n",
    "    return [num for num in numeros if num % 2 != 0]\n",
    "\n",
    "lista_impar = []\n",
    "print(\"crie sua lista aqui e receba os números primos!\")\n",
    "numeros_lista_impar = int(input(\"Qual será o tamanho da sua lista? \"))\n",
    "\n",
    "while len(lista_impar) < numeros_lista_impar:\n",
    "    lista_impar.append(int(input(\"Agora insira os valores da lista de um por um \")))\n",
    "    lista_impar.sort()\n",
    "    \n",
    "print(f\"os valores ímpares da lista são: {impar(lista_impar)}\")"
   ]
  },
  {
   "cell_type": "markdown",
   "id": "8f356822-387c-4839-98c2-5fa00204ae0f",
   "metadata": {
    "jp-MarkdownHeadingCollapsed": true,
    "tags": []
   },
   "source": [
    "# 2) Escreva uma função que receba uma lista de números e retorne outra lista com os números primos presentes."
   ]
  },
  {
   "cell_type": "code",
   "execution_count": 12,
   "id": "e374cdf7-647a-423e-b7ab-ee210c243467",
   "metadata": {
    "tags": []
   },
   "outputs": [
    {
     "name": "stdout",
     "output_type": "stream",
     "text": [
      "crie sua lista aqui e receba os números primos!\n"
     ]
    },
    {
     "name": "stdin",
     "output_type": "stream",
     "text": [
      "Qual será o tamanho da sua lista?  6\n",
      "Agora insira os valores da lista de um por um  3\n",
      "Agora insira os valores da lista de um por um  5\n",
      "Agora insira os valores da lista de um por um  9\n",
      "Agora insira os valores da lista de um por um  15\n",
      "Agora insira os valores da lista de um por um  17\n",
      "Agora insira os valores da lista de um por um  23\n"
     ]
    },
    {
     "name": "stdout",
     "output_type": "stream",
     "text": [
      "os valores primos da lista são: [3, 5, 17, 23]\n"
     ]
    }
   ],
   "source": [
    "def eh_primo(n):\n",
    "    if n <= 1:\n",
    "        return False\n",
    "    for i in range(2, int(n ** 0.5) + 1):\n",
    "        if n % i == 0:\n",
    "            return False\n",
    "    return True\n",
    "\n",
    "def primos(numeros):\n",
    "    return [num for num in numeros if eh_primo(num)]\n",
    "\n",
    "lista_primos = []\n",
    "print(\"crie sua lista aqui e receba os números primos!\")\n",
    "numeros_lista_primos = int(input(\"Qual será o tamanho da sua lista? \"))\n",
    "\n",
    "while len(lista_primos) < numeros_lista_primos:\n",
    "    lista_primos.append(int(input(\"Agora insira os valores da lista de um por um \")))\n",
    "    lista_primos.sort()\n",
    "    \n",
    "print(f\"os valores primos da lista são: {primos(lista_primos)}\")"
   ]
  },
  {
   "cell_type": "markdown",
   "id": "82ef5394-7f13-4e44-a9ce-8c0b99fc5399",
   "metadata": {
    "tags": []
   },
   "source": [
    "# 3. Escreva uma função que receba duas listas e retorne outra lista com os elementos que estão presentes em apenas uma das listas."
   ]
  },
  {
   "cell_type": "code",
   "execution_count": 26,
   "id": "dab5072c-0c07-4dc0-878f-310928d0e486",
   "metadata": {
    "tags": []
   },
   "outputs": [
    {
     "name": "stdout",
     "output_type": "stream",
     "text": [
      "crie suas 2 listas aqui e receba os números únicos!\n"
     ]
    },
    {
     "name": "stdin",
     "output_type": "stream",
     "text": [
      "Qual será o tamanho da sua lista 1?  4\n",
      "Agora insira os valores da lista 1 de um por um  1\n",
      "Agora insira os valores da lista 1 de um por um  2\n",
      "Agora insira os valores da lista 1 de um por um  3\n",
      "Agora insira os valores da lista 1 de um por um  4\n",
      "\n",
      "Qual será o tamanho da sua lista 2?  3\n",
      "Agora insira os valores da lista 2 de um por um  4\n",
      "Agora insira os valores da lista 2 de um por um  5\n",
      "Agora insira os valores da lista 2 de um por um  6\n"
     ]
    },
    {
     "name": "stdout",
     "output_type": "stream",
     "text": [
      "\n",
      "os elementos únicos de cada lista são: [1, 2, 3, 5, 6]\n"
     ]
    }
   ],
   "source": [
    "def elementos_unicos(lista1, lista2):\n",
    "    return list(set(lista1) ^ set(lista2))\n",
    "\n",
    "lista_1 = []\n",
    "print(\"crie suas 2 listas aqui e receba os números únicos!\\n\")\n",
    "numeros_lista_1 = int(input(\"Qual será o tamanho da sua lista 1? \"))\n",
    "\n",
    "while len(lista_1) < numeros_lista_1:\n",
    "    lista_1.append(int(input(\"Agora insira os valores da lista 1 de um por um \")))\n",
    "    lista_1.sort()\n",
    "\n",
    "lista_2 = []\n",
    "numeros_lista_2 = int(input(\"\\nQual será o tamanho da sua lista 2? \"))\n",
    "\n",
    "while len(lista_2) < numeros_lista_2:\n",
    "    lista_2.append(int(input(\"Agora insira os valores da lista 2 de um por um \")))\n",
    "    lista_2.sort()\n",
    "\n",
    "    \n",
    "print(f\"\\nos elementos únicos de cada lista são: {elementos_unicos(lista_1, lista_2)}\")"
   ]
  },
  {
   "cell_type": "markdown",
   "id": "735f0a88-3a46-4413-877d-3c7e65bf472a",
   "metadata": {},
   "source": [
    "# 4) Dada uma lista de números inteiros, escreva uma função para encontrar o segundo maior valor na lista."
   ]
  },
  {
   "cell_type": "code",
   "execution_count": 34,
   "id": "7965e329-c98b-46da-9e2b-12db40c0a245",
   "metadata": {
    "tags": []
   },
   "outputs": [
    {
     "name": "stdout",
     "output_type": "stream",
     "text": [
      "crie sua lista aqui e receba o segundo maior valor!\n",
      "\n"
     ]
    },
    {
     "name": "stdin",
     "output_type": "stream",
     "text": [
      "Qual será o tamanho da sua lista?  3\n",
      "Agora insira os valores da lista de um por um  2\n",
      "Agora insira os valores da lista de um por um  8\n",
      "Agora insira os valores da lista de um por um  5\n"
     ]
    },
    {
     "name": "stdout",
     "output_type": "stream",
     "text": [
      "o segundo maior número da sua lista é: 5\n"
     ]
    }
   ],
   "source": [
    "def segundo_maior(numeros):\n",
    "    numeros_unicos = list(set(numeros))\n",
    "    numeros_unicos.sort()\n",
    "    return numeros_unicos[-2]\n",
    "\n",
    "\n",
    "lista_numeros = []\n",
    "print(\"crie sua lista aqui e receba o segundo maior valor!\\n\")\n",
    "numeros_lista_numeros = int(input(\"Qual será o tamanho da sua lista? \"))\n",
    "\n",
    "while len(lista_numeros) < numeros_lista_numeros:\n",
    "    lista_numeros.append(int(input(\"Agora insira os valores da lista de um por um \")))\n",
    "    lista_numeros.sort()\n",
    "\n",
    "print(f\"o segundo maior número da sua lista é: {segundo_maior(lista_numeros)}\")"
   ]
  }
 ],
 "metadata": {
  "kernelspec": {
   "display_name": "Python 3 (ipykernel)",
   "language": "python",
   "name": "python3"
  },
  "language_info": {
   "codemirror_mode": {
    "name": "ipython",
    "version": 3
   },
   "file_extension": ".py",
   "mimetype": "text/x-python",
   "name": "python",
   "nbconvert_exporter": "python",
   "pygments_lexer": "ipython3",
   "version": "3.11.8"
  }
 },
 "nbformat": 4,
 "nbformat_minor": 5
}
